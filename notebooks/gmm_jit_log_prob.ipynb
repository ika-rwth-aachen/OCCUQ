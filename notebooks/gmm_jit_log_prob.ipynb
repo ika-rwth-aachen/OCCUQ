{
 "cells": [
  {
   "cell_type": "markdown",
   "metadata": {},
   "source": [
    "## Fast GMM GPU Evaluation"
   ]
  },
  {
   "cell_type": "code",
   "execution_count": 47,
   "metadata": {},
   "outputs": [],
   "source": [
    "import os\n",
    "import time\n",
    "import math\n",
    "\n",
    "import torch\n",
    "from torch import jit\n",
    "\n",
    "os.environ[\"CUDA_VISIBLE_DEVICES\"] = \"0\""
   ]
  },
  {
   "cell_type": "markdown",
   "metadata": {},
   "source": [
    "To run this notebook make sure to run a 2.x Pytorch version."
   ]
  },
  {
   "cell_type": "code",
   "execution_count": 48,
   "metadata": {},
   "outputs": [
    {
     "name": "stdout",
     "output_type": "stream",
     "text": [
      "2.6.0+cu126\n"
     ]
    }
   ],
   "source": [
    "print(torch.__version__)"
   ]
  },
  {
   "cell_type": "code",
   "execution_count": 49,
   "metadata": {},
   "outputs": [],
   "source": [
    "@jit.script\n",
    "def jit_log_prob(\n",
    "    x: torch.Tensor,\n",
    "    means: torch.Tensor,\n",
    "    precisions_cholesky: torch.Tensor,\n",
    ") -> torch.Tensor:\n",
    "\n",
    "    log_prob = x.new_empty((x.size(0), means.size(0)))\n",
    "    for k, (mu, prec_chol) in enumerate(zip(means, precisions_cholesky)):\n",
    "        inner = x.matmul(prec_chol) - mu.matmul(prec_chol)\n",
    "        log_prob[:, k] = inner.square().sum(1)\n",
    "\n",
    "    num_features = x.size(1)\n",
    "    logdet = precisions_cholesky.diagonal(dim1=-2, dim2=-1).log().sum(-1)\n",
    "    constant = math.log(2 * math.pi) * num_features\n",
    "    return logdet - 0.5 * (constant + log_prob)"
   ]
  },
  {
   "cell_type": "code",
   "execution_count": 50,
   "metadata": {},
   "outputs": [],
   "source": [
    "# create random features\n",
    "feature = torch.randn(640000, 32)"
   ]
  },
  {
   "cell_type": "code",
   "execution_count": 51,
   "metadata": {},
   "outputs": [],
   "source": [
    "# load real gmm\n",
    "gmm = torch.load('train_gmm_scale_3.pt', weights_only=False)\n",
    "loc = gmm.loc\n",
    "covariance_matrix = gmm.covariance_matrix"
   ]
  },
  {
   "cell_type": "code",
   "execution_count": 52,
   "metadata": {},
   "outputs": [],
   "source": [
    "# prepare means and precisions_cholesky\n",
    "target = torch.eye(32, dtype=covariance_matrix.dtype, device=covariance_matrix.device)\n",
    "target = target.unsqueeze(0).expand(17, -1, -1)\n",
    "cholesky_decomp = torch.linalg.cholesky(covariance_matrix)\n",
    "\n",
    "# two ways to compute precisions_cholesky, torch.linalg.solve_triangular is not supported in older pytorch versions\n",
    "precisions_cholesky = torch.linalg.solve_triangular(cholesky_decomp, target, upper=False).transpose(-2, -1)\n",
    "precisions_cholesky2 = torch.inverse(cholesky_decomp).matmul(target.transpose(-2, -1)).transpose(-2, -1)"
   ]
  },
  {
   "cell_type": "code",
   "execution_count": 53,
   "metadata": {},
   "outputs": [
    {
     "data": {
      "text/plain": [
       "2.9206275939941406e-06"
      ]
     },
     "execution_count": 53,
     "metadata": {},
     "output_type": "execute_result"
    }
   ],
   "source": [
    "torch.abs(precisions_cholesky2 - precisions_cholesky).max().item()"
   ]
  },
  {
   "cell_type": "markdown",
   "metadata": {},
   "source": [
    "### GPU GMM"
   ]
  },
  {
   "cell_type": "code",
   "execution_count": 54,
   "metadata": {},
   "outputs": [
    {
     "name": "stdout",
     "output_type": "stream",
     "text": [
      "Average Time: 9.487302 ms\n",
      "Standard Deviation: 1.224776 ms\n"
     ]
    }
   ],
   "source": [
    "feature = feature.cuda()\n",
    "loc = loc.cuda()\n",
    "precisions_cholesky = precisions_cholesky.cuda()\n",
    "\n",
    "# Warm-up iterations\n",
    "for _ in range(10):\n",
    "    _ = jit_log_prob(feature, loc, precisions_cholesky)\n",
    "\n",
    "# Benchmarking\n",
    "times = []\n",
    "for _ in range(100):\n",
    "    start_time = time.time()\n",
    "    _ = jit_log_prob(feature, loc, precisions_cholesky)\n",
    "    times.append(time.time() - start_time)\n",
    "\n",
    "# Calculate and print average time and standard deviation\n",
    "avg_time = (sum(times) / len(times)) * 1000  # Convert to milliseconds\n",
    "std_time = ((sum((t - avg_time / 1000) ** 2 for t in times) / len(times)) ** 0.5) * 1000  # Convert to milliseconds\n",
    "print(f'Average Time: {avg_time:.6f} ms')\n",
    "print(f'Standard Deviation: {std_time:.6f} ms')"
   ]
  },
  {
   "cell_type": "markdown",
   "metadata": {},
   "source": [
    "### CPU GMM"
   ]
  },
  {
   "cell_type": "code",
   "execution_count": 55,
   "metadata": {},
   "outputs": [
    {
     "name": "stdout",
     "output_type": "stream",
     "text": [
      "Average Time: 938.410990 ms\n",
      "Standard Deviation: 175.627048 ms\n"
     ]
    }
   ],
   "source": [
    "# Warm-up iterations\n",
    "feature = feature.cpu()\n",
    "for _ in range(10):\n",
    "    _ = gmm.log_prob(feature[:, None, :])\n",
    "\n",
    "# Benchmarking\n",
    "times = []\n",
    "for _ in range(100):\n",
    "    start_time = time.time()\n",
    "    _ = gmm.log_prob(feature[:, None, :])\n",
    "    times.append(time.time() - start_time)\n",
    "\n",
    "# Calculate and print average time and standard deviation\n",
    "avg_time = (sum(times) / len(times)) * 1000  # Convert to milliseconds\n",
    "std_time = ((sum((t - avg_time / 1000) ** 2 for t in times) / len(times)) ** 0.5) * 1000  # Convert to milliseconds\n",
    "print(f'Average Time: {avg_time:.6f} ms')\n",
    "print(f'Standard Deviation: {std_time:.6f} ms')"
   ]
  },
  {
   "cell_type": "markdown",
   "metadata": {},
   "source": [
    "### Numerical Difference"
   ]
  },
  {
   "cell_type": "code",
   "execution_count": 56,
   "metadata": {},
   "outputs": [
    {
     "name": "stdout",
     "output_type": "stream",
     "text": [
      "Maximum Absolute Difference: 0.0025634765625\n"
     ]
    }
   ],
   "source": [
    "# Compute log probabilities using gmm.log_prob\n",
    "gmm_log_prob = gmm.log_prob(feature[:, None, :].cpu())\n",
    "\n",
    "# Compute log probabilities using jit_log_prob\n",
    "jit_log_prob_output = jit_log_prob(feature.cuda(), loc, precisions_cholesky).cpu()\n",
    "\n",
    "# Calculate the maximum absolute difference\n",
    "max_diff = torch.abs(gmm_log_prob - jit_log_prob_output).max().item()\n",
    "print(f'Maximum Absolute Difference: {max_diff}')"
   ]
  }
 ],
 "metadata": {
  "kernelspec": {
   "display_name": ".venv",
   "language": "python",
   "name": "python3"
  },
  "language_info": {
   "codemirror_mode": {
    "name": "ipython",
    "version": 3
   },
   "file_extension": ".py",
   "mimetype": "text/x-python",
   "name": "python",
   "nbconvert_exporter": "python",
   "pygments_lexer": "ipython3",
   "version": "3.12.3"
  }
 },
 "nbformat": 4,
 "nbformat_minor": 2
}
